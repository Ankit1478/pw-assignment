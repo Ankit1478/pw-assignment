{
 "cells": [
  {
   "cell_type": "code",
   "execution_count": 2,
   "id": "add2b2f8-8160-4403-95a0-ea80ccfc2245",
   "metadata": {},
   "outputs": [],
   "source": [
    "import numpy as np\n",
    "list_ = [ 1 , 2 , 3 , 4 , 5 ]\n",
    "array_list = np.array(object = list_)"
   ]
  },
  {
   "cell_type": "markdown",
   "id": "e2e1f89b-c00a-46b1-9aa7-436cd472f698",
   "metadata": {},
   "source": [
    "''''Q1. Is there any difference in the data type of variables list_ and array_list? If there is then write a code\n",
    "to print the data types of both the variables.'''"
   ]
  },
  {
   "cell_type": "code",
   "execution_count": 4,
   "id": "31a7488b-df0d-47ba-a2ff-427ccb4ddaf0",
   "metadata": {},
   "outputs": [
    {
     "name": "stdout",
     "output_type": "stream",
     "text": [
      "Data type of 'list_' variable: <class 'list'>\n",
      "Data type of 'array_list' variable: <class 'numpy.ndarray'>\n"
     ]
    }
   ],
   "source": [
    "''' Yes, there is a difference in the data type of the list_ and array_list variables. \n",
    "The list_ variable is a Python list object, whereas the array_list variable is a NumPy array object.'''\n",
    "\n",
    "list_ = [1, 2, 3, 4, 5]\n",
    "array_list = np.array(list_)\n",
    "\n",
    "print(\"Data type of 'list_' variable:\", type(list_))\n",
    "print(\"Data type of 'array_list' variable:\", type(array_list))\n"
   ]
  },
  {
   "cell_type": "markdown",
   "id": "bd3a8413-57ca-404e-b90d-b08a370050e5",
   "metadata": {},
   "source": [
    "#Q2. Write a code to print the data type of each and every element of both the variables list_ and\n",
    "arra_list."
   ]
  },
  {
   "cell_type": "code",
   "execution_count": 7,
   "id": "138d82dd-fd08-421e-91fa-332f1e2cee23",
   "metadata": {},
   "outputs": [
    {
     "name": "stdout",
     "output_type": "stream",
     "text": [
      "Data type of  list_\n",
      "<class 'int'>\n",
      "<class 'int'>\n",
      "<class 'int'>\n",
      "<class 'int'>\n",
      "<class 'int'>\n",
      "Data Type in arrayList\n",
      "<class 'numpy.int64'>\n",
      "<class 'numpy.int64'>\n",
      "<class 'numpy.int64'>\n",
      "<class 'numpy.int64'>\n",
      "<class 'numpy.int64'>\n"
     ]
    }
   ],
   "source": [
    "list_ = [ 1 , 2 , 3 , 4 , 5 ]\n",
    "array_list=np.array(object=list_)\n",
    "\n",
    "print(\"Data type of  list_\")\n",
    "for i in list_:\n",
    "    print(type(i))\n",
    "    \n",
    "print(\"Data Type in arrayList\")\n",
    "for i in array_list:\n",
    "    print(type(i))"
   ]
  },
  {
   "cell_type": "markdown",
   "id": "c52e9120-0289-4017-8ba9-4aa15e5f3cda",
   "metadata": {},
   "source": [
    "#Q3. Considering the following changes in the variable, array_list:"
   ]
  },
  {
   "cell_type": "code",
   "execution_count": 8,
   "id": "d6108c04-bfc0-4464-820f-2ef6e1899574",
   "metadata": {},
   "outputs": [],
   "source": [
    "array_list = np.array(object = list_, dtype = int)"
   ]
  },
  {
   "cell_type": "code",
   "execution_count": 11,
   "id": "eeb15705-4bcd-4a0c-ab25-d4c312cb960a",
   "metadata": {},
   "outputs": [
    {
     "name": "stdout",
     "output_type": "stream",
     "text": [
      "Data type of 'list_': <class 'list'>\n",
      "Data type of 'array_list': <class 'numpy.ndarray'>\n",
      "Elements of 'list_': [1, 2, 3, 4, 5]\n",
      "Elements of 'array_list': [1 2 3 4 5]\n",
      "Data type of each element in 'list_':\n",
      "<class 'int'>\n",
      "<class 'int'>\n",
      "<class 'int'>\n",
      "<class 'int'>\n",
      "<class 'int'>\n",
      "Data type of each element in 'array_list':\n",
      "<class 'numpy.int64'>\n",
      "<class 'numpy.int64'>\n",
      "<class 'numpy.int64'>\n",
      "<class 'numpy.int64'>\n",
      "<class 'numpy.int64'>\n"
     ]
    }
   ],
   "source": [
    "import numpy as np\n",
    "\n",
    "num_list = [ [ 1 , 2 , 3 ] , [ 4 , 5 , 6 ] ]\n",
    "array_list = np.array(object = list_, dtype = int)\n",
    "\n",
    "print(\"Data type of 'list_':\", type(list_))\n",
    "print(\"Data type of 'array_list':\", type(array_list))\n",
    "\n",
    "print(\"Elements of 'list_':\", list_)\n",
    "print(\"Elements of 'array_list':\", array_list)\n",
    "\n",
    "print(\"Data type of each element in 'list_':\")\n",
    "for element in list_:\n",
    "    print(type(element))\n",
    "\n",
    "print(\"Data type of each element in 'array_list':\")\n",
    "for element in array_list:\n",
    "    print(type(element))\n"
   ]
  },
  {
   "cell_type": "markdown",
   "id": "0aaaa8b8-caed-4e36-b9c7-2a5ef0f98fb0",
   "metadata": {},
   "source": [
    "#Q4. Write a code to find the following characteristics of variable, num_array:\n",
    "(i) shape\n",
    "(ii) size"
   ]
  },
  {
   "cell_type": "code",
   "execution_count": 12,
   "id": "97dd5df0-f98e-4fe7-97f3-3142449cdd11",
   "metadata": {},
   "outputs": [],
   "source": [
    "num_list = [ [ 1 , 2 , 3 ] , [ 4 , 5 , 6 ] ]\n",
    "array_list = np.array(num_list)"
   ]
  },
  {
   "cell_type": "code",
   "execution_count": 13,
   "id": "f9a98d6e-fb79-4057-9818-d1d06840adb7",
   "metadata": {},
   "outputs": [
    {
     "data": {
      "text/plain": [
       "array([[1, 2, 3],\n",
       "       [4, 5, 6]])"
      ]
     },
     "execution_count": 13,
     "metadata": {},
     "output_type": "execute_result"
    }
   ],
   "source": [
    "array_list"
   ]
  },
  {
   "cell_type": "code",
   "execution_count": 14,
   "id": "ae4d4061-2bc1-4b61-9ec0-b82a73d5923c",
   "metadata": {},
   "outputs": [
    {
     "data": {
      "text/plain": [
       "(2, 3)"
      ]
     },
     "execution_count": 14,
     "metadata": {},
     "output_type": "execute_result"
    }
   ],
   "source": [
    "array_list.shape"
   ]
  },
  {
   "cell_type": "code",
   "execution_count": 15,
   "id": "166c64cd-f93e-4b82-ad01-d576cf9e013d",
   "metadata": {},
   "outputs": [
    {
     "data": {
      "text/plain": [
       "6"
      ]
     },
     "execution_count": 15,
     "metadata": {},
     "output_type": "execute_result"
    }
   ],
   "source": [
    "array_list.size"
   ]
  },
  {
   "cell_type": "markdown",
   "id": "8561d6bb-8f17-4849-9236-3808a15e0f89",
   "metadata": {},
   "source": [
    "Q5. Write a code to create numpy array of 3*3 matrix containing zeros only, using a numpy array\n",
    "creation function."
   ]
  },
  {
   "cell_type": "code",
   "execution_count": 16,
   "id": "f7172461-f431-4a3e-88e3-f0c589990dd7",
   "metadata": {},
   "outputs": [],
   "source": [
    "zero_array=np.zeros([3,3])"
   ]
  },
  {
   "cell_type": "code",
   "execution_count": 17,
   "id": "271b9f42-d04a-429d-aa37-508599d2b6d8",
   "metadata": {},
   "outputs": [
    {
     "data": {
      "text/plain": [
       "array([[0., 0., 0.],\n",
       "       [0., 0., 0.],\n",
       "       [0., 0., 0.]])"
      ]
     },
     "execution_count": 17,
     "metadata": {},
     "output_type": "execute_result"
    }
   ],
   "source": [
    "zero_array"
   ]
  },
  {
   "cell_type": "code",
   "execution_count": 18,
   "id": "ccb6c23b-fe5e-4ea7-8847-34a3e1a68d0d",
   "metadata": {},
   "outputs": [
    {
     "data": {
      "text/plain": [
       "numpy.ndarray"
      ]
     },
     "execution_count": 18,
     "metadata": {},
     "output_type": "execute_result"
    }
   ],
   "source": [
    "type(zero_array)"
   ]
  },
  {
   "cell_type": "code",
   "execution_count": 19,
   "id": "2bd1c482-cbe9-4730-bfe0-ea9bc17aa5d1",
   "metadata": {},
   "outputs": [],
   "source": [
    "zero_array=np.zeros((3,3))"
   ]
  },
  {
   "cell_type": "code",
   "execution_count": 20,
   "id": "80de4499-a6e0-4d4f-bf98-7d0d15cc14e4",
   "metadata": {},
   "outputs": [
    {
     "data": {
      "text/plain": [
       "array([[0., 0., 0.],\n",
       "       [0., 0., 0.],\n",
       "       [0., 0., 0.]])"
      ]
     },
     "execution_count": 20,
     "metadata": {},
     "output_type": "execute_result"
    }
   ],
   "source": [
    "zero_array"
   ]
  },
  {
   "cell_type": "code",
   "execution_count": 21,
   "id": "5725fa3e-b7f9-4bae-a1bf-fa9df987848c",
   "metadata": {},
   "outputs": [
    {
     "data": {
      "text/plain": [
       "numpy.ndarray"
      ]
     },
     "execution_count": 21,
     "metadata": {},
     "output_type": "execute_result"
    }
   ],
   "source": [
    "type(zero_array)"
   ]
  },
  {
   "cell_type": "markdown",
   "id": "ff7c85ad-86e8-4ed0-9cbd-6dd3465c6398",
   "metadata": {},
   "source": [
    "Q6. Create an identity matrix of shape (5,5) using numpy functions?"
   ]
  },
  {
   "cell_type": "code",
   "execution_count": 26,
   "id": "55ed1b06-736e-4b7a-8f24-5309a698e477",
   "metadata": {},
   "outputs": [],
   "source": [
    "identy_matrix= np.eye(5)"
   ]
  },
  {
   "cell_type": "code",
   "execution_count": 28,
   "id": "adb5844c-e379-4d32-86a1-e66c7f0f1933",
   "metadata": {},
   "outputs": [
    {
     "data": {
      "text/plain": [
       "array([[1., 0., 0., 0., 0.],\n",
       "       [0., 1., 0., 0., 0.],\n",
       "       [0., 0., 1., 0., 0.],\n",
       "       [0., 0., 0., 1., 0.],\n",
       "       [0., 0., 0., 0., 1.]])"
      ]
     },
     "execution_count": 28,
     "metadata": {},
     "output_type": "execute_result"
    }
   ],
   "source": [
    "identy_matrix"
   ]
  },
  {
   "cell_type": "code",
   "execution_count": null,
   "id": "d64963e6-8cef-49c1-ae8a-7102f693d15d",
   "metadata": {},
   "outputs": [],
   "source": []
  }
 ],
 "metadata": {
  "kernelspec": {
   "display_name": "Python 3 (ipykernel)",
   "language": "python",
   "name": "python3"
  },
  "language_info": {
   "codemirror_mode": {
    "name": "ipython",
    "version": 3
   },
   "file_extension": ".py",
   "mimetype": "text/x-python",
   "name": "python",
   "nbconvert_exporter": "python",
   "pygments_lexer": "ipython3",
   "version": "3.10.8"
  }
 },
 "nbformat": 4,
 "nbformat_minor": 5
}
